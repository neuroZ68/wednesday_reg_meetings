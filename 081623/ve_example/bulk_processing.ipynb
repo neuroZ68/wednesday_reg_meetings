{
 "cells": [
  {
   "cell_type": "code",
   "execution_count": 1,
   "metadata": {},
   "outputs": [],
   "source": [
    "import os\n",
    "import pandas as pd\n",
    "from count_slices import count_slices"
   ]
  },
  {
   "cell_type": "code",
   "execution_count": 2,
   "metadata": {},
   "outputs": [],
   "source": [
    "# Directory containing your .nii.gz files\n",
    "input_directory = \"./data\""
   ]
  },
  {
   "cell_type": "code",
   "execution_count": 3,
   "metadata": {},
   "outputs": [
    {
     "name": "stdout",
     "output_type": "stream",
     "text": [
      "Processing ./data\\sub-010_left_lfseg_corr_nogray.nii.gz\n",
      "Processing ./data\\sub-010_right_lfseg_corr_nogray.nii.gz\n",
      "Processing ./data\\sub-011_left_lfseg_corr_nogray.nii.gz\n",
      "Processing ./data\\sub-011_right_lfseg_corr_nogray.nii.gz\n",
      "All files processed. Results saved to slice_counts.csv.\n"
     ]
    }
   ],
   "source": [
    "# Get a list of all .nii.gz files in the directory\n",
    "file_paths = [os.path.join(input_directory, file) for file in os.listdir(input_directory) if file.endswith(\".nii.gz\")]\n",
    "\n",
    "# Initialize an empty DataFrame to hold all the results\n",
    "all_counts = pd.DataFrame()\n",
    "\n",
    "#! Process each file\n",
    "for file_path in file_paths:\n",
    "    print(f\"Processing {file_path}\")\n",
    "    counts_df = count_slices(file_path)\n",
    "    \n",
    "    # Add a column to identify the subject and side each row came from\n",
    "    base_name = os.path.basename(file_path).split('.')[0]  # remove file extension\n",
    "    subject = base_name.split('_')[0]  # first part before '_'\n",
    "    side = base_name.split('_')[1]  # second part after '_'\n",
    "    \n",
    "    # Transpose the DataFrame and reset the index\n",
    "    counts_df = counts_df.set_index('ROI').transpose().reset_index(drop=True)\n",
    "    \n",
    "    # Assign new column names\n",
    "    counts_df.columns = [f\"{col}_{side}\" for col in counts_df.columns]\n",
    "    \n",
    "    # Add subject ID as a new column\n",
    "    counts_df.insert(0, 'Subject', subject)\n",
    "    \n",
    "    # Append the results to the master DataFrame\n",
    "    all_counts = all_counts.append(counts_df, ignore_index=True)\n",
    "\n",
    "# Combine rows with the same Subject\n",
    "all_counts = all_counts.groupby('Subject').first().reset_index()\n",
    "\n",
    "# Save the results to a CSV file\n",
    "all_counts.to_csv(\"slice_counts.csv\", index=False)\n",
    "\n",
    "print(\"All files processed. Results saved to slice_counts.csv.\")\n",
    "# this is a comment\n",
    "#! this is an important comment\n",
    "#? this is question"
   ]
  },
  {
   "cell_type": "code",
   "execution_count": null,
   "metadata": {},
   "outputs": [],
   "source": []
  }
 ],
 "metadata": {
  "kernelspec": {
   "display_name": "Python 3",
   "language": "python",
   "name": "python3"
  },
  "language_info": {
   "codemirror_mode": {
    "name": "ipython",
    "version": 3
   },
   "file_extension": ".py",
   "mimetype": "text/x-python",
   "name": "python",
   "nbconvert_exporter": "python",
   "pygments_lexer": "ipython3",
   "version": "3.6.13"
  },
  "orig_nbformat": 4
 },
 "nbformat": 4,
 "nbformat_minor": 2
}
